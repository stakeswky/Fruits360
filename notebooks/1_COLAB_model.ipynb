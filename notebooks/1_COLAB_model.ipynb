{
  "nbformat": 4,
  "nbformat_minor": 0,
  "metadata": {
    "colab": {
      "name": "1.5-COLAB - initial-data-exploration&model.ipynb",
      "version": "0.3.2",
      "provenance": [],
      "collapsed_sections": [],
      "toc_visible": true
    },
    "language_info": {
      "codemirror_mode": {
        "name": "ipython",
        "version": 3
      },
      "file_extension": ".py",
      "mimetype": "text/x-python",
      "name": "python",
      "nbconvert_exporter": "python",
      "pygments_lexer": "ipython3",
      "version": "3.6.8"
    },
    "kernelspec": {
      "name": "python3",
      "display_name": "Python 3"
    },
    "accelerator": "GPU"
  },
  "cells": [
    {
      "cell_type": "code",
      "metadata": {
        "id": "YoAyDrovU0GA",
        "colab_type": "code",
        "colab": {}
      },
      "source": [
        "import numpy as np\n",
        "import matplotlib as plt\n",
        "import pandas as pd\n",
        "\n",
        "import torch\n",
        "import torch.nn as nn\n",
        "\n",
        "import glob\n",
        "from skimage import io\n",
        "from PIL import Image\n",
        "\n",
        "from torch.utils.data import DataLoader, Sampler\n",
        "from torchvision import datasets\n",
        "from torchvision.transforms import transforms\n",
        "\n",
        "import torchvision\n",
        "from torch.utils.data import DataLoader, Sampler\n",
        "\n",
        "\n",
        "import matplotlib.pyplot as plt\n",
        "%matplotlib inline"
      ],
      "execution_count": 0,
      "outputs": []
    },
    {
      "cell_type": "markdown",
      "metadata": {
        "id": "oHAtF5qUcDmM",
        "colab_type": "text"
      },
      "source": [
        "### Dataset"
      ]
    },
    {
      "cell_type": "code",
      "metadata": {
        "id": "FKBzdVTOcROO",
        "colab_type": "code",
        "colab": {
          "base_uri": "https://localhost:8080/",
          "height": 272
        },
        "outputId": "1a1ce289-e095-4104-c374-7b47ffc67eb7"
      },
      "source": [
        "!wget --directory-prefix=data/ http://www.mimuw.edu.pl/~cygan/assignment1.tgz\n",
        "!tar -xzf data/assignment1.tgz -C data/\n",
        "!rm data/assignment1.tgz"
      ],
      "execution_count": 2,
      "outputs": [
        {
          "output_type": "stream",
          "text": [
            "--2019-05-16 10:47:30--  http://www.mimuw.edu.pl/~cygan/assignment1.tgz\n",
            "Resolving www.mimuw.edu.pl (www.mimuw.edu.pl)... 193.0.96.14\n",
            "Connecting to www.mimuw.edu.pl (www.mimuw.edu.pl)|193.0.96.14|:80... connected.\n",
            "HTTP request sent, awaiting response... 301 Moved Permanently\n",
            "Location: https://www.mimuw.edu.pl/~cygan/assignment1.tgz [following]\n",
            "--2019-05-16 10:47:31--  https://www.mimuw.edu.pl/~cygan/assignment1.tgz\n",
            "Connecting to www.mimuw.edu.pl (www.mimuw.edu.pl)|193.0.96.14|:443... connected.\n",
            "HTTP request sent, awaiting response... 200 OK\n",
            "Length: 259943297 (248M) [application/x-gzip]\n",
            "Saving to: ‘data/assignment1.tgz’\n",
            "\n",
            "assignment1.tgz     100%[===================>] 247.90M  6.63MB/s    in 57s     \n",
            "\n",
            "2019-05-16 10:48:30 (4.32 MB/s) - ‘data/assignment1.tgz’ saved [259943297/259943297]\n",
            "\n"
          ],
          "name": "stdout"
        }
      ]
    },
    {
      "cell_type": "markdown",
      "metadata": {
        "id": "cWePYOIBU0GJ",
        "colab_type": "text"
      },
      "source": [
        "## Data Loading"
      ]
    },
    {
      "cell_type": "code",
      "metadata": {
        "id": "VgJc9tvXU0GK",
        "colab_type": "code",
        "colab": {}
      },
      "source": [
        "train_path = \"data/fruits-360/Training\"\n",
        "test_path  = \"data/fruits-360/Test\""
      ],
      "execution_count": 0,
      "outputs": []
    },
    {
      "cell_type": "markdown",
      "metadata": {
        "id": "YTZH7NYQU0GQ",
        "colab_type": "text"
      },
      "source": [
        "#### Train and validation"
      ]
    },
    {
      "cell_type": "code",
      "metadata": {
        "id": "-jL9lhZlU0GR",
        "colab_type": "code",
        "colab": {}
      },
      "source": [
        "#Create Datasets class object\n",
        "transformation = transforms.Compose([transforms.ToTensor(),transforms.Normalize( (0.5,0.5,0.5), (0.5,0.5,0.5) )])\n",
        "dataset = datasets.ImageFolder(train_path, transform = transformation)\n",
        "\n",
        "#Parameters\n",
        "val_split = 0.2\n",
        "train_size = dataset.__len__()\n",
        "\n",
        "#Create indices and shuffle them\n",
        "indice = list(range(train_size))\n",
        "np.random.shuffle(indice)\n",
        "\n",
        "#split indices into training and validation\n",
        "split = round(val_split * train_size)\n",
        "train_indices, val_indices = indice[split:], indice[:split]\n",
        "\n",
        "#Samplers\n",
        "train_sampler = torch.utils.data.SubsetRandomSampler(train_indices)\n",
        "val_sampler = torch.utils.data.SubsetRandomSampler(val_indices) \n",
        "\n",
        "#Loaders\n",
        "train_loader = DataLoader(dataset=dataset, batch_size=32, sampler= train_sampler)\n",
        "val_loader = DataLoader(dataset=dataset, batch_size=32, sampler = val_sampler)"
      ],
      "execution_count": 0,
      "outputs": []
    },
    {
      "cell_type": "markdown",
      "metadata": {
        "id": "_9i4SYxRU0GW",
        "colab_type": "text"
      },
      "source": [
        "#### Test"
      ]
    },
    {
      "cell_type": "code",
      "metadata": {
        "id": "ktTLJjxUU0GY",
        "colab_type": "code",
        "colab": {}
      },
      "source": [
        "test_dataset = torchvision.datasets.ImageFolder(test_path, transform = transformation)\n",
        "## Test loader\n",
        "test_loader = DataLoader(test_dataset, batch_size = 32)"
      ],
      "execution_count": 0,
      "outputs": []
    },
    {
      "cell_type": "markdown",
      "metadata": {
        "id": "US11P3cVU0Ge",
        "colab_type": "text"
      },
      "source": [
        "#### Toy dataset to test code"
      ]
    },
    {
      "cell_type": "code",
      "metadata": {
        "id": "VgBmnez0U0Gh",
        "colab_type": "code",
        "colab": {}
      },
      "source": [
        "### Create toy dataset to check  implementation\n",
        "np.random.seed(42)\n",
        "\n",
        "toy_size = 1000\n",
        "toy_batch = 32\n",
        "\n",
        "tr_toy_ind = np.random.choice(train_indices, size = toy_size) \n",
        "val_toy_ind = np.random.choice(val_indices, size = toy_size) \n",
        "\n",
        "\n",
        "train_toy_sampler = torch.utils.data.SubsetRandomSampler(tr_toy_ind)\n",
        "val_toy_sampler = torch.utils.data.SubsetRandomSampler(val_toy_ind) \n",
        "\n",
        "train_toy_loader = DataLoader(dataset=dataset, batch_size=toy_batch, sampler= train_toy_sampler)\n",
        "val_toy_loader = DataLoader(dataset=dataset, batch_size= toy_batch, sampler = val_toy_sampler)"
      ],
      "execution_count": 0,
      "outputs": []
    },
    {
      "cell_type": "markdown",
      "metadata": {
        "id": "JYLBnGJRU0Go",
        "colab_type": "text"
      },
      "source": [
        "### Random visualization"
      ]
    },
    {
      "cell_type": "code",
      "metadata": {
        "id": "zQgMZdr-U0Gq",
        "colab_type": "code",
        "colab": {}
      },
      "source": [
        "def visualize_random_image(number):\n",
        "    \n",
        "        for num,idx in enumerate(np.random.randint(0, train_loader.dataset.__len__() , size = number)):\n",
        "            path, target = train_loader.dataset.imgs[idx]\n",
        "            img = Image.open(path)\n",
        "            ax = plt.subplot(200+ number//2 * 10+1+num,)\n",
        "            ax.set_title(dataset.class_to_idx.get(target))\n",
        "            ax.imshow(img)\n",
        "            ax.axis(\"off\")"
      ],
      "execution_count": 0,
      "outputs": []
    },
    {
      "cell_type": "code",
      "metadata": {
        "id": "MO8zy9D4U0Gv",
        "colab_type": "code",
        "colab": {
          "base_uri": "https://localhost:8080/",
          "height": 243
        },
        "outputId": "bff1b9d4-9957-4ba9-9fd8-6f781cf1966c"
      },
      "source": [
        "visualize_random_image(8)"
      ],
      "execution_count": 7,
      "outputs": [
        {
          "output_type": "display_data",
          "data": {
            "image/png": "[encoded data removed]",
            "text/plain": [
              "<Figure size 432x288 with 8 Axes>"
            ]
          },
          "metadata": {
            "tags": []
          }
        }
      ]
    },
    {
      "cell_type": "markdown",
      "metadata": {
        "colab_type": "text",
        "id": "IG4YrOWNjh6X"
      },
      "source": [
        "### Batch layer (Not used)"
      ]
    },
    {
      "cell_type": "code",
      "metadata": {
        "colab_type": "code",
        "id": "VVHTNtfdjh5w",
        "colab": {}
      },
      "source": [
        "# Input - X (batch_size,(height, width, channels))\n",
        "# dtype - torch.Tensor\n",
        "# (64,3,h,w)\n",
        "\n",
        "# class BatchNormCustom(nn.Module):\n",
        "    \n",
        "#     def __init__(self, gamma = 1, beta = 0, eps = 1e-5):\n",
        "#         super().__init__()\n",
        "#         self.X = None\n",
        "#         self.gamma = torch.FloatTensor(gamma)\n",
        "#         self.beta = torch.FloatTensor(beta)\n",
        "#         self.eps = torch.tensor(eps)\n",
        "        \n",
        "#     def forward(self,X):\n",
        "#         self.X = X\n",
        "#         m  = X.shape[0]\n",
        "#         mu = torch.mul((1/m),torch.sum(X, 0))\n",
        "#         var = torch.mul((1/m),torch.sum((X - mu) ** 2, 0))\n",
        "#         X_norm = (X - mu)/torch.sqrt(var + self.eps)\n",
        "#         return  self.gamma * X_norm + self.beta\n",
        "\n",
        "#     def params(self):\n",
        "#         return { 'gamma': self.gamma, 'beta': self.beta}"
      ],
      "execution_count": 0,
      "outputs": []
    },
    {
      "cell_type": "markdown",
      "metadata": {
        "id": "HmkdgOH-U0HM",
        "colab_type": "text"
      },
      "source": [
        "### Defining model, loss function, optimizer"
      ]
    },
    {
      "cell_type": "code",
      "metadata": {
        "id": "pBLc5sukU0HO",
        "colab_type": "code",
        "colab": {}
      },
      "source": [
        "# Flat input to use in Fully-Connected layer\n",
        "class Flattener(nn.Module):  \n",
        "\n",
        "    def forward(self,X):\n",
        "        self.X_shape = X.shape\n",
        "        return X.view(self.X_shape[0],-1)\n",
        "\n",
        "    \n",
        "model = nn.Sequential(nn.Conv2d(3,20,5, bias = False),\n",
        "                      nn.BatchNorm2d(20),\n",
        "                      nn.ReLU(inplace=True),\n",
        "                      nn.MaxPool2d(4),\n",
        "                      nn.Conv2d(20,20,5, bias = False),\n",
        "                      nn.BatchNorm2d(20),\n",
        "                      nn.ReLU(inplace=True),\n",
        "                      nn.MaxPool2d(4),\n",
        "                      Flattener(),\n",
        "                      nn.Linear(20 * 5 *5, 96, bias = True)\n",
        "                     )\n",
        "\n",
        "device = torch.device(\"cuda:0\")\n",
        "\n",
        "model.to(device)\n",
        "model.type(torch.cuda.FloatTensor)\n",
        "\n",
        "if torch.cuda.device_count() > 1:\n",
        "    print(\"GPU: \", torch.cuda.device_count())\n",
        "    model = nn.DataParallel(model)\n",
        "\n",
        "\n",
        "loss_f = nn.CrossEntropyLoss(reduction = \"mean\").type(torch.cuda.FloatTensor)\n",
        "optim = torch.optim.Adam(model.parameters(),lr = 1e-3, weight_decay=1e-5)"
      ],
      "execution_count": 0,
      "outputs": []
    },
    {
      "cell_type": "markdown",
      "metadata": {
        "id": "J6oQMclTU0HT",
        "colab_type": "text"
      },
      "source": [
        "### Compute accuracy for given model and data loader"
      ]
    },
    {
      "cell_type": "code",
      "metadata": {
        "id": "OLtV5zm1U0HV",
        "colab_type": "code",
        "colab": {}
      },
      "source": [
        "def compute_accuracy(model, data_loader):\n",
        "    model.eval()\n",
        "    \n",
        "    correct_prediction = 0\n",
        "    total_samples = 0\n",
        "    batch_size = data_loader.batch_size\n",
        "    \n",
        "    for x,y in data_loader:\n",
        "        x_device = x.to(device)\n",
        "        y_device = y.to(device)\n",
        "        \n",
        "        output = model(x_device)\n",
        "        prediction = torch.argmax(output,1)\n",
        "        correct_prediction += torch.sum(prediction == y_device)\n",
        "        total_samples += batch_size\n",
        "        \n",
        "    return float(correct_prediction)/ total_samples"
      ],
      "execution_count": 0,
      "outputs": []
    },
    {
      "cell_type": "markdown",
      "metadata": {
        "id": "yvIoOzCrU0Hb",
        "colab_type": "text"
      },
      "source": [
        "### Training function"
      ]
    },
    {
      "cell_type": "code",
      "metadata": {
        "id": "4gnu9JQ5U0Hd",
        "colab_type": "code",
        "colab": {}
      },
      "source": [
        "def train(model, train_loader, validation_loader, loss, optimizer,num_epochs, verbose = False):\n",
        "    train_loss_history, train_acc_history, val_acc_history = [], [], []\n",
        "    \n",
        "    scheduler = torch.optim.lr_scheduler.StepLR(optimizer, step_size=5)\n",
        "    for epoch in range(num_epochs):\n",
        "        model.train()\n",
        "        \n",
        "        scheduler.step()\n",
        "        \n",
        "        train_loss = 0\n",
        "        correct_train_samples = 0.\n",
        "        total_train_samples = len(train_loader.sampler.indices)\n",
        "        for i_batch, (x,y) in enumerate(train_loader):\n",
        "            x_gpu = x.to(device)\n",
        "            y_gpu = y.to(device)\n",
        "            \n",
        "            output = model(x_gpu)\n",
        "            prediction = torch.argmax(output,1)\n",
        "            loss_value = loss(output,y_gpu)\n",
        "            \n",
        "            optimizer.zero_grad()\n",
        "            loss_value.backward()\n",
        "            optimizer.step()\n",
        "                \n",
        "            train_loss += loss_value\n",
        "            correct_train_samples += torch.sum(prediction == y_gpu)\n",
        "            torch.cuda.empty_cache()\n",
        "            \n",
        "        train_acc = float(correct_train_samples) / total_train_samples\n",
        "        val_acc = compute_accuracy(model,validation_loader)\n",
        "        \n",
        "        train_loss_history.append(train_loss/ (i_batch+1))\n",
        "        train_acc_history.append(train_acc)\n",
        "        val_acc_history.append(val_acc)\n",
        "        \n",
        "        torch.cuda.empty_cache()\n",
        "        if verbose:\n",
        "            print(\"Epoch : %d, Train loss - %f, train_acc - %f, val_acc - %f\" % (epoch+1, train_loss, train_acc, val_acc))\n",
        "    \n",
        "    return train_loss_history, train_acc_history, val_acc_history\n",
        "        "
      ],
      "execution_count": 0,
      "outputs": []
    },
    {
      "cell_type": "code",
      "metadata": {
        "id": "2ylLrwmCyzXv",
        "colab_type": "code",
        "colab": {
          "base_uri": "https://localhost:8080/",
          "height": 187
        },
        "outputId": "ae82bbd3-f7d5-479d-f4d0-a9d417f2f308"
      },
      "source": [
        "# train with manual hp \n",
        "train_loss_history, train_acc_history, val_acc_history = train(model, train_loader, val_loader, loss_f, optim, 10, verbose = True) "
      ],
      "execution_count": 11,
      "outputs": [
        {
          "output_type": "stream",
          "text": [
            "Epoch : 1, Train loss - 533.804016, train_acc - 0.918234, val_acc - 0.996630\n",
            "Epoch : 2, Train loss - 24.080488, train_acc - 0.997367, val_acc - 0.997141\n",
            "Epoch : 3, Train loss - 19.152952, train_acc - 0.996498, val_acc - 0.998060\n",
            "Epoch : 4, Train loss - 5.132233, train_acc - 0.999438, val_acc - 0.998775\n",
            "Epoch : 5, Train loss - 1.184786, train_acc - 0.999898, val_acc - 0.998877\n",
            "Epoch : 6, Train loss - 0.766330, train_acc - 1.000000, val_acc - 0.998775\n",
            "Epoch : 7, Train loss - 0.654647, train_acc - 1.000000, val_acc - 0.998877\n",
            "Epoch : 8, Train loss - 0.590589, train_acc - 1.000000, val_acc - 0.998877\n",
            "Epoch : 9, Train loss - 0.518281, train_acc - 1.000000, val_acc - 0.998877\n",
            "Epoch : 10, Train loss - 0.405802, train_acc - 1.000000, val_acc - 0.998775\n"
          ],
          "name": "stdout"
        }
      ]
    },
    {
      "cell_type": "code",
      "metadata": {
        "id": "eEiI7BfYU0Hm",
        "colab_type": "code",
        "colab": {
          "base_uri": "https://localhost:8080/",
          "height": 281
        },
        "outputId": "51aad970-a564-44a5-b405-c7492eef2ec5"
      },
      "source": [
        "plt.plot(train_acc_history, color=\"orange\")\n",
        "plt.plot(val_acc_history, color = \"blue\")\n",
        "plt.legend((\"train\", \"validation\"))\n",
        "plt.title(\"Accuracy\");"
      ],
      "execution_count": 12,
      "outputs": [
        {
          "output_type": "display_data",
          "data": {
            "image/png": "[encoded data removed]",
            "text/plain": [
              "<Figure size 432x288 with 1 Axes>"
            ]
          },
          "metadata": {
            "tags": []
          }
        }
      ]
    },
    {
      "cell_type": "code",
      "metadata": {
        "id": "ZrNgkhqsU0Ht",
        "colab_type": "code",
        "colab": {
          "base_uri": "https://localhost:8080/",
          "height": 298
        },
        "outputId": "470b5acb-cbeb-48fb-e759-45c1ee9983c4"
      },
      "source": [
        "plt.plot(train_loss_history)\n",
        "plt.title(\"Training Loss history\")"
      ],
      "execution_count": 13,
      "outputs": [
        {
          "output_type": "execute_result",
          "data": {
            "text/plain": [
              "Text(0.5, 1.0, 'Training Loss history')"
            ]
          },
          "metadata": {
            "tags": []
          },
          "execution_count": 13
        },
        {
          "output_type": "display_data",
          "data": {
            "image/png": "[encoded data removed]",
            "text/plain": [
              "<Figure size 432x288 with 1 Axes>"
            ]
          },
          "metadata": {
            "tags": []
          }
        }
      ]
    },
    {
      "cell_type": "markdown",
      "metadata": {
        "id": "yeuel-M1U0IF",
        "colab_type": "text"
      },
      "source": [
        "### Grid Search"
      ]
    },
    {
      "cell_type": "code",
      "metadata": {
        "id": "XmQSU9WJU0IY",
        "colab_type": "code",
        "colab": {}
      },
      "source": [
        "regularization = [1e-4, 1e-5] \n",
        "learning_rate = [1e-3, 1e-4]"
      ],
      "execution_count": 0,
      "outputs": []
    },
    {
      "cell_type": "code",
      "metadata": {
        "id": "656kgXj-U0Il",
        "colab_type": "code",
        "colab": {}
      },
      "source": [
        "def make_new_optim_model(reg, lr):\n",
        "    model = nn.Sequential(nn.Conv2d(3,20,5, bias = False),\n",
        "                              nn.BatchNorm2d(20),\n",
        "                              nn.ReLU(inplace=True),\n",
        "                              nn.MaxPool2d(4),\n",
        "                              nn.Conv2d(20,10,5, bias = False),\n",
        "                              nn.BatchNorm2d(10),\n",
        "                              nn.ReLU(inplace=True),\n",
        "                              nn.MaxPool2d(4),\n",
        "                              Flattener(),\n",
        "                              nn.Linear(10 * 5 *5, 96, bias = True)\n",
        "                             )\n",
        "    optimizer = torch.optim.Adam(model.parameters(), lr = lr, weight_decay= reg )\n",
        "    \n",
        "    model.to(device)\n",
        "    model.type(torch.cuda.FloatTensor)\n",
        "\n",
        "    return optimizer,model\n",
        " "
      ],
      "execution_count": 0,
      "outputs": []
    },
    {
      "cell_type": "code",
      "metadata": {
        "id": "3veFcfnnU0I2",
        "colab_type": "code",
        "colab": {}
      },
      "source": [
        "best_model_dict = {\n",
        "    \"model\" : None,\n",
        "    \"optim\" : None,\n",
        "    \"val_history\" : [],\n",
        "    \"lr\" : None,\n",
        "    \"reg\" : None\n",
        "}\n",
        "\n",
        "best_val_acc = 0.0\n",
        "\n",
        "for reg in regularization:\n",
        "    for lr in learning_rate:  \n",
        "            optimizer, model = make_new_optim_model(reg, lr)\n",
        "          \n",
        "            loss_history, train_history, val_history = train(model,train_loader,val_loader,loss_f, optimizer, 5) \n",
        "            \n",
        "            if (val_history != []) and (val_history[-1] > best_val_acc) :\n",
        "                best_model_dict[\"model\"] = model.state_dict()\n",
        "                best_model_dict[\"optim\"] = optimizer.state_dict()\n",
        "                best_model_dict[\"val_history\"] = val_history\n",
        "                best_model_dict[\"lr\"] = lr\n",
        "                best_model_dict[\"reg\"] = reg\n",
        "                \n",
        "                \n",
        "                best_val_acc = val_history[-1]\n",
        "            \n",
        "            print(\"LR = {} ; L2 = {} ; val_acc: {} \".format(lr, reg, val_history[-1]))"
      ],
      "execution_count": 0,
      "outputs": []
    },
    {
      "cell_type": "code",
      "metadata": {
        "id": "RRT9Yn9_vSEa",
        "colab_type": "code",
        "colab": {}
      },
      "source": [
        "# continue to train best model\n",
        "\n",
        "optim_c, model_c = make_new__optim_model(best_model_dict[\"reg\"],best_model_dict[\"lr\"])\n",
        "model_c.load_state_dict(best_model_dict[\"model\"])\n",
        "optim_c.load_state_dict(best_model_dict[\"optim\"])\n",
        "\n",
        "loss_history, train_history, val_history = train(model_c,train_loader,val_loader,loss_f, optim_c, 10, verbose=True)"
      ],
      "execution_count": 0,
      "outputs": []
    },
    {
      "cell_type": "markdown",
      "metadata": {
        "id": "C2gFCxVTU0JW",
        "colab_type": "text"
      },
      "source": [
        "### Save model state into file"
      ]
    },
    {
      "cell_type": "code",
      "metadata": {
        "id": "WejhA6UsU0JX",
        "colab_type": "code",
        "colab": {
          "base_uri": "https://localhost:8080/",
          "height": 71
        },
        "outputId": "69091189-b510-4ac0-f7d4-70760ff47bf0"
      },
      "source": [
        "from google.colab import files\n",
        "torch.save(model, \"gs_best_model\")\n",
        "\n",
        "files.download(\"gs_best_model\")"
      ],
      "execution_count": 14,
      "outputs": [
        {
          "output_type": "stream",
          "text": [
            "/usr/local/lib/python3.6/dist-packages/torch/serialization.py:256: UserWarning: Couldn't retrieve source code for container of type Flattener. It won't be checked for correctness upon loading.\n",
            "  \"type \" + obj.__name__ + \". It won't be checked \"\n"
          ],
          "name": "stderr"
        }
      ]
    },
    {
      "cell_type": "markdown",
      "metadata": {
        "id": "4RQRd587U0Jp",
        "colab_type": "text"
      },
      "source": [
        "### Test best model"
      ]
    },
    {
      "cell_type": "code",
      "metadata": {
        "id": "JgC2UbUZpNdu",
        "colab_type": "code",
        "colab": {
          "base_uri": "https://localhost:8080/",
          "height": 34
        },
        "outputId": "8628326f-e6eb-498e-f07a-93a1732aacea"
      },
      "source": [
        "compute_accuracy(model,test_loader)"
      ],
      "execution_count": 15,
      "outputs": [
        {
          "output_type": "execute_result",
          "data": {
            "text/plain": [
              "0.9851653696498055"
            ]
          },
          "metadata": {
            "tags": []
          },
          "execution_count": 15
        }
      ]
    }
  ]
}